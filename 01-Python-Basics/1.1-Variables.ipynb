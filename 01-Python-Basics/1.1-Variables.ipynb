{
 "cells": [
  {
   "cell_type": "markdown",
   "id": "5788c5ec",
   "metadata": {},
   "source": [
    "### Variables\n",
    "Variables are fundamental elements in programming used to store data that can be referenced and manipulated in a program. In Python, variables are created when you assign a value to them, and they do not need explicit declaration to reserve memory space. The declaration happens automatically when you assign a value to a variable."
   ]
  },
  {
   "cell_type": "code",
   "execution_count": 5,
   "id": "fd98072e",
   "metadata": {},
   "outputs": [
    {
     "name": "stdout",
     "output_type": "stream",
     "text": [
      "Age: 21\n",
      "Name: Tejas\n",
      "Height: 5.11\n",
      "Student: True\n"
     ]
    }
   ],
   "source": [
    "# Declaring and Assigning Variables\n",
    "\n",
    "age = 21\n",
    "name = \"Tejas\"\n",
    "height = \"5.11\"\n",
    "is_student = True\n",
    "\n",
    "## Printing an Variable\n",
    "\n",
    "print(\"Age:\", age)\n",
    "print(\"Name:\", name)\n",
    "print(\"Height:\",height)\n",
    "print(\"Student:\",is_student)"
   ]
  },
  {
   "cell_type": "code",
   "execution_count": 17,
   "id": "f7200cfd",
   "metadata": {},
   "outputs": [
    {
     "name": "stdout",
     "output_type": "stream",
     "text": [
      "Rahul\n",
      "6\n",
      "True\n",
      "25\n"
     ]
    }
   ],
   "source": [
    "# Naming Conventions\n",
    "# Variable names should be descreptive \n",
    "## They must start with a letter or \"_\" and contains letters, numbers and underscore\n",
    "\n",
    "_n___ame = \"Rahul\"\n",
    "print(_n___ame)\n",
    "\n",
    "_12535 = 6\n",
    "print(_12535)\n",
    "\n",
    "_1 = True; print(_1)\n",
    "\n",
    "naem_522_teasfd= 25; print(naem_522_teasfd)"
   ]
  },
  {
   "cell_type": "code",
   "execution_count": 11,
   "id": "1ab1a576",
   "metadata": {},
   "outputs": [
    {
     "ename": "SyntaxError",
     "evalue": "invalid decimal literal (858673793.py, line 2)",
     "output_type": "error",
     "traceback": [
      "\u001b[1;36m  Cell \u001b[1;32mIn[11], line 2\u001b[1;36m\u001b[0m\n\u001b[1;33m    2age = 30\u001b[0m\n\u001b[1;37m    ^\u001b[0m\n\u001b[1;31mSyntaxError\u001b[0m\u001b[1;31m:\u001b[0m invalid decimal literal\n"
     ]
    }
   ],
   "source": [
    "# Invalid Variable name \n",
    "2age = 30\n",
    "print(2age)"
   ]
  },
  {
   "cell_type": "code",
   "execution_count": 12,
   "id": "3ab2866c",
   "metadata": {},
   "outputs": [
    {
     "ename": "SyntaxError",
     "evalue": "cannot assign to expression here. Maybe you meant '==' instead of '='? (2412347040.py, line 1)",
     "output_type": "error",
     "traceback": [
      "\u001b[1;36m  Cell \u001b[1;32mIn[12], line 1\u001b[1;36m\u001b[0m\n\u001b[1;33m    first-name = \"tejas\"\u001b[0m\n\u001b[1;37m    ^\u001b[0m\n\u001b[1;31mSyntaxError\u001b[0m\u001b[1;31m:\u001b[0m cannot assign to expression here. Maybe you meant '==' instead of '='?\n"
     ]
    }
   ],
   "source": [
    "first-name = \"tejas\"\n",
    "print(first-name)"
   ]
  },
  {
   "cell_type": "code",
   "execution_count": 13,
   "id": "56415bd6",
   "metadata": {},
   "outputs": [
    {
     "ename": "SyntaxError",
     "evalue": "cannot assign to expression here. Maybe you meant '==' instead of '='? (3755979755.py, line 1)",
     "output_type": "error",
     "traceback": [
      "\u001b[1;36m  Cell \u001b[1;32mIn[13], line 1\u001b[1;36m\u001b[0m\n\u001b[1;33m    first@name = \"tejas\"\u001b[0m\n\u001b[1;37m    ^\u001b[0m\n\u001b[1;31mSyntaxError\u001b[0m\u001b[1;31m:\u001b[0m cannot assign to expression here. Maybe you meant '==' instead of '='?\n"
     ]
    }
   ],
   "source": [
    "first@name = \"tejas\"\n",
    "print(first@name)"
   ]
  },
  {
   "cell_type": "code",
   "execution_count": 15,
   "id": "42becaf8",
   "metadata": {},
   "outputs": [
    {
     "ename": "SyntaxError",
     "evalue": "invalid syntax (762200711.py, line 1)",
     "output_type": "error",
     "traceback": [
      "\u001b[1;36m  Cell \u001b[1;32mIn[15], line 1\u001b[1;36m\u001b[0m\n\u001b[1;33m    _@  = True\u001b[0m\n\u001b[1;37m        ^\u001b[0m\n\u001b[1;31mSyntaxError\u001b[0m\u001b[1;31m:\u001b[0m invalid syntax\n"
     ]
    }
   ],
   "source": [
    "_@  = True\n",
    "print(_@)"
   ]
  },
  {
   "cell_type": "code",
   "execution_count": 18,
   "id": "2b0981c6",
   "metadata": {},
   "outputs": [
    {
     "name": "stdout",
     "output_type": "stream",
     "text": [
      "<class 'int'>\n",
      "<class 'str'>\n",
      "<class 'float'>\n",
      "<class 'bool'>\n"
     ]
    }
   ],
   "source": [
    "# Understanding variable types \n",
    "# Python is Dynammicaly typed its variable type is determined at runtime \n",
    "age =21\n",
    "name = \"Tejas\"\n",
    "height = 6.1\n",
    "is_student = True\n",
    "print(type(age))\n",
    "print(type(name))\n",
    "print(type(height))\n",
    "print(type(is_student))"
   ]
  },
  {
   "cell_type": "code",
   "execution_count": null,
   "id": "dc642302",
   "metadata": {},
   "outputs": [
    {
     "name": "stdout",
     "output_type": "stream",
     "text": [
      "25\n",
      "25\n",
      "<class 'str'>\n"
     ]
    }
   ],
   "source": [
    "# Type Checking and Conversion \n",
    "age = 25\n",
    "print(age)\n",
    "\n",
    "# Type conversion\n",
    "age_str = str(age)\n",
    "print(age_str)\n",
    "print(type(age_str))\n"
   ]
  },
  {
   "cell_type": "code",
   "execution_count": 22,
   "id": "88323f7a",
   "metadata": {},
   "outputs": [
    {
     "ename": "ValueError",
     "evalue": "invalid literal for int() with base 10: 'Tejas'",
     "output_type": "error",
     "traceback": [
      "\u001b[1;31m---------------------------------------------------------------------------\u001b[0m",
      "\u001b[1;31mValueError\u001b[0m                                Traceback (most recent call last)",
      "Cell \u001b[1;32mIn[22], line 2\u001b[0m\n\u001b[0;32m      1\u001b[0m name \u001b[38;5;241m=\u001b[39m \u001b[38;5;124m\"\u001b[39m\u001b[38;5;124mTejas\u001b[39m\u001b[38;5;124m\"\u001b[39m\n\u001b[1;32m----> 2\u001b[0m \u001b[38;5;28mprint\u001b[39m(\u001b[38;5;28;43mint\u001b[39;49m\u001b[43m(\u001b[49m\u001b[43mname\u001b[49m\u001b[43m)\u001b[49m)\n",
      "\u001b[1;31mValueError\u001b[0m: invalid literal for int() with base 10: 'Tejas'"
     ]
    }
   ],
   "source": [
    "name = \"Tejas\"\n",
    "print(int(name))"
   ]
  },
  {
   "cell_type": "code",
   "execution_count": 23,
   "id": "cb464b61",
   "metadata": {},
   "outputs": [
    {
     "data": {
      "text/plain": [
       "float"
      ]
     },
     "execution_count": 23,
     "metadata": {},
     "output_type": "execute_result"
    }
   ],
   "source": [
    "height = 6.11\n",
    "type(height)"
   ]
  },
  {
   "cell_type": "code",
   "execution_count": 24,
   "id": "55a6256d",
   "metadata": {},
   "outputs": [
    {
     "data": {
      "text/plain": [
       "6.0"
      ]
     },
     "execution_count": 24,
     "metadata": {},
     "output_type": "execute_result"
    }
   ],
   "source": [
    "float(int(height))"
   ]
  },
  {
   "cell_type": "code",
   "execution_count": 25,
   "id": "1cf01824",
   "metadata": {},
   "outputs": [
    {
     "name": "stdout",
     "output_type": "stream",
     "text": [
      "10 <class 'int'>\n",
      "Hello <class 'str'>\n",
      "3.14 <class 'float'>\n"
     ]
    }
   ],
   "source": [
    "# Dynamic Typing\n",
    "# python allows the type of the variable to change at runtime\n",
    "\n",
    "var = 10 # Initially an integer\n",
    "print(var, type(var))\n",
    "\n",
    "var = \"Hello\" # Now a string\n",
    "print(var, type(var))\n",
    "\n",
    "var = 3.14 # Now a float\n",
    "print(var, type(var))   \n"
   ]
  },
  {
   "cell_type": "code",
   "execution_count": 30,
   "id": "7eaf3e1a",
   "metadata": {},
   "outputs": [
    {
     "name": "stdout",
     "output_type": "stream",
     "text": [
      "Your age is: 56\n",
      "Type of age variable: <class 'int'>\n"
     ]
    }
   ],
   "source": [
    "## input \n",
    "\n",
    "age = int(input(\"Enter your age: \"))\n",
    "print(\"Your age is:\", age)\n",
    "print(\"Type of age variable:\", type(age))"
   ]
  },
  {
   "cell_type": "code",
   "execution_count": null,
   "id": "60902730",
   "metadata": {},
   "outputs": [
    {
     "name": "stdout",
     "output_type": "stream",
     "text": [
      "Sum: 61.0\n",
      "Difference: -11.0\n",
      "Product: 900.0\n",
      "Quotient: 0.6944444444444444\n"
     ]
    }
   ],
   "source": [
    "# Simple Calculator\n",
    "num1 = float(input(\"Enter first number: \")) \n",
    "num2 = float(input(\"Enter second number: \"))\n",
    "\n",
    "sum = num1 + num2\n",
    "difference = num1 - num2\n",
    "product = num1 * num2   \n",
    "quotient = num1 / num2\n",
    "\n",
    "print(\"Sum:\", sum)\n",
    "print(\"Difference:\", difference)\n",
    "print(\"Product:\", product)\n",
    "print(\"Quotient:\", quotient)"
   ]
  }
 ],
 "metadata": {
  "kernelspec": {
   "display_name": "Python 3",
   "language": "python",
   "name": "python3"
  },
  "language_info": {
   "codemirror_mode": {
    "name": "ipython",
    "version": 3
   },
   "file_extension": ".py",
   "mimetype": "text/x-python",
   "name": "python",
   "nbconvert_exporter": "python",
   "pygments_lexer": "ipython3",
   "version": "3.12.0"
  }
 },
 "nbformat": 4,
 "nbformat_minor": 5
}
